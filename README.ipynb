{
 "cells": [
  {
   "cell_type": "markdown",
   "metadata": {},
   "source": [
    "# Module 6 Project\n",
    "Author: [Julia Fangman](https://github.com/juliafangman)\n",
    "Repository: [datafun-06-projects](https://github.com/juliafangman/datafun-06-projects)"
   ]
  },
  {
   "cell_type": "markdown",
   "metadata": {},
   "source": [
    "## README.md"
   ]
  },
  {
   "cell_type": "markdown",
   "metadata": {},
   "source": [
    "### ABOUT ME..."
   ]
  },
  {
   "cell_type": "markdown",
   "metadata": {},
   "source": [
    "My name is Julia Fangman & My exploratory data project is about crime in the Chicago area!\n",
    "Today's Date is Thursday, September 28, 2023."
   ]
  },
  {
   "cell_type": "markdown",
   "metadata": {},
   "source": [
    "# datafun-06-projects"
   ]
  },
  {
   "cell_type": "markdown",
   "metadata": {},
   "source": [
    "In this module, you will be able to perform a guided exploratory data analysis project and \n",
    "conduct a unique data analysis exploration. Ultimately, the objective is to craft a compelling narrative (\"tell a story\") using data, showcasing not only your analytical skills but also your professional and engaging communication abilities."
   ]
  },
  {
   "cell_type": "markdown",
   "metadata": {},
   "source": [
    "## Getting Started (Task 1) "
   ]
  },
  {
   "cell_type": "markdown",
   "metadata": {},
   "source": [
    "Prepare the module repository by adding an updated readme, gitignore, and requirements file. Make sure to include instructions on how to create and activate a virtual environment, install all required external dependencies, and execute python files. "
   ]
  },
  {
   "cell_type": "markdown",
   "metadata": {},
   "source": [
    "## Guided Diamonds Project (Task 2)"
   ]
  },
  {
   "cell_type": "markdown",
   "metadata": {},
   "source": [
    "Begin by following the instructions for Exercise 9.16 starting on pg. 350. \n",
    "Section 1-Load: Get the file, store it in your repo, and load it into a DataFrame. \n",
    "Section 2-View: Display the first 7 rows and the last 7 rows.\n",
    "Section 3-Describe: Use the DataFrame describe() function to calculate basic descriptive statistics for all numeric columns. \n",
    "Section 4-Series: Use the Series method describe() to calculate the descriptive stats for all category/text columns.\n",
    "Section 5-Unique: Use the Series method unique() to get unique category values. \n",
    "Section 6-Histograms: Use the DataFrame's hist() function to create a histogram for each numerical column."
   ]
  },
  {
   "cell_type": "markdown",
   "metadata": {},
   "source": [
    "## Custom Exploratory Data Project"
   ]
  },
  {
   "cell_type": "markdown",
   "metadata": {},
   "source": [
    "Use everything you've learned to conduct a unique data exploration project using some information related to your domain. Create a new notebook that uses a dataset of your choice (use this project to feature all of the key skills learned). \n",
    "Include challenging Python programming aspects - find a reason to use filter(), map(), and list comprehensions.\n",
    "Have fun and make it unique."
   ]
  }
 ],
 "metadata": {
  "language_info": {
   "name": "python"
  },
  "orig_nbformat": 4
 },
 "nbformat": 4,
 "nbformat_minor": 2
}
