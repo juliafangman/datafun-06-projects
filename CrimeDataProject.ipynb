{
 "cells": [
  {
   "cell_type": "markdown",
   "metadata": {},
   "source": [
    "# Module 6 Project - Custom Exploratory Data Project\n",
    "Author: [Julia Fangman](https://github.com/juliafangman)\n",
    "Repository: [datafun-06-projects](https://github.com/juliafangman/datafun-06-projects)"
   ]
  },
  {
   "cell_type": "markdown",
   "metadata": {},
   "source": [
    "## Analyzing Crime in NYC"
   ]
  },
  {
   "cell_type": "markdown",
   "metadata": {},
   "source": [
    "New York City is one of the largest cities in the United States with approximately 8.2 million people (as of 2011, in which the dataset I will use is derived). Because it is so large, it makes me wonder...\"How often does crime actually occur in a city that big?\" Well below we will begin by analyzing a NYC crime dataset to display how often crime really occurs (and for which type of crimes)."
   ]
  },
  {
   "cell_type": "markdown",
   "metadata": {},
   "source": [
    "## Section 1 - Load"
   ]
  },
  {
   "cell_type": "code",
   "execution_count": 1,
   "metadata": {},
   "outputs": [],
   "source": [
    "import pandas as pd\n",
    "crime = pd.read_csv('crime.csv') "
   ]
  },
  {
   "cell_type": "markdown",
   "metadata": {},
   "source": [
    "## Section 2 - View"
   ]
  },
  {
   "cell_type": "code",
   "execution_count": 2,
   "metadata": {},
   "outputs": [
    {
     "name": "stdout",
     "output_type": "stream",
     "text": [
      "First 5 rows:\n",
      "   Year  Population  Murder  Rape  Robbery  Assault  Burglary  CarTheft\n",
      "0  1965    18073000     836  2320    28182    27464    183443     58452\n",
      "1  1966    18258000     882  2439    30098    29142    196127     64368\n",
      "2  1967    18336000     996  2665    40202    31261    219157     83775\n",
      "3  1968    18113000    1185  2527    59857    34946    250918    104877\n",
      "4  1969    18321000    1324  2902    64754    36890    248477    115400\n",
      "\n",
      "Last 5 rows:\n",
      "    Year  Population  Murder  Rape  Robbery  Assault  Burglary  CarTheft\n",
      "42  2007    19297729     801  2926    31094    45094     64857     28030\n",
      "43  2008    19467789     836  2799    31789    42122     65537     25096\n",
      "44  2009    19541453     781  2582    28141    43606     62769     21871\n",
      "45  2010    19395206     868  2797    28630    44197     65839     20639\n",
      "46  2011    19465197     774  2752    28396    45568     65397     19311\n"
     ]
    }
   ],
   "source": [
    "import pandas as pd\n",
    "crime = pd.read_csv('crime.csv')  \n",
    "\n",
    "pd.set_option('display.precision', 5)\n",
    "print(\"First 5 rows:\")\n",
    "print(crime.head(5))\n",
    "\n",
    "print(\"\\nLast 5 rows:\")\n",
    "print(crime.tail(5))"
   ]
  },
  {
   "cell_type": "markdown",
   "metadata": {},
   "source": [
    "## Section 3 - Describe"
   ]
  },
  {
   "cell_type": "code",
   "execution_count": 3,
   "metadata": {},
   "outputs": [
    {
     "name": "stdout",
     "output_type": "stream",
     "text": [
      "Descriptive Statistics for Numeric Columns:\n",
      "             Year   Population      Murder        Rape       Robbery  \\\n",
      "count    47.00000  4.70000e+01    47.00000    47.00000      47.00000   \n",
      "mean   1988.00000  1.83443e+07  1549.97872  4200.42553   70429.29787   \n",
      "std      13.71131  6.02450e+05   590.45426  1096.56951   30204.82376   \n",
      "min    1965.00000  1.75067e+07   774.00000  2320.00000   28141.00000   \n",
      "25%    1976.50000  1.79370e+07   922.50000  3197.00000   36604.00000   \n",
      "50%    1988.00000  1.81690e+07  1683.00000  4199.00000   81149.00000   \n",
      "75%    1999.50000  1.86837e+07  2016.00000  5241.00000   94141.00000   \n",
      "max    2011.00000  1.95415e+07  2605.00000  5706.00000  120344.00000   \n",
      "\n",
      "           Assault      Burglary      CarTheft  \n",
      "count     47.00000      47.00000      47.00000  \n",
      "mean   58022.23404  189119.82979   97573.55319  \n",
      "std    17455.53437   90256.25714   46707.06449  \n",
      "min    27464.00000   62769.00000   19311.00000  \n",
      "25%    45477.50000   90581.50000   56246.00000  \n",
      "50%    57193.00000  208813.00000  106537.00000  \n",
      "75%    64864.50000  250016.50000  128367.00000  \n",
      "max    92105.00000  360925.00000  187591.00000  \n"
     ]
    }
   ],
   "source": [
    "numeric_descriptive_stats = crime.describe()\n",
    "print(\"Descriptive Statistics for Numeric Columns:\")\n",
    "print(numeric_descriptive_stats)"
   ]
  },
  {
   "cell_type": "markdown",
   "metadata": {},
   "source": [
    "## Section 4 - Series"
   ]
  },
  {
   "cell_type": "markdown",
   "metadata": {},
   "source": [
    "The dataset being utilized does not contain categorical columns/data, and so instead for this section I decided to break down the crime descriptions by each colum (even though this output is less visually communicative compared to section 3 above)."
   ]
  },
  {
   "cell_type": "code",
   "execution_count": 5,
   "metadata": {},
   "outputs": [
    {
     "name": "stdout",
     "output_type": "stream",
     "text": [
      "\n",
      "Population Description:\n",
      "count    4.70000e+01\n",
      "mean     1.83443e+07\n",
      "std      6.02450e+05\n",
      "min      1.75067e+07\n",
      "25%      1.79370e+07\n",
      "50%      1.81690e+07\n",
      "75%      1.86837e+07\n",
      "max      1.95415e+07\n",
      "Name: Population, dtype: float64\n",
      "\n",
      "Murder Description:\n",
      "count      47.00000\n",
      "mean     1549.97872\n",
      "std       590.45426\n",
      "min       774.00000\n",
      "25%       922.50000\n",
      "50%      1683.00000\n",
      "75%      2016.00000\n",
      "max      2605.00000\n",
      "Name: Murder, dtype: float64\n",
      "\n",
      "Rape Description:\n",
      "count      47.00000\n",
      "mean     4200.42553\n",
      "std      1096.56951\n",
      "min      2320.00000\n",
      "25%      3197.00000\n",
      "50%      4199.00000\n",
      "75%      5241.00000\n",
      "max      5706.00000\n",
      "Name: Rape, dtype: float64\n",
      "\n",
      "Robbery Description:\n",
      "count        47.00000\n",
      "mean      70429.29787\n",
      "std       30204.82376\n",
      "min       28141.00000\n",
      "25%       36604.00000\n",
      "50%       81149.00000\n",
      "75%       94141.00000\n",
      "max      120344.00000\n",
      "Name: Robbery, dtype: float64\n",
      "\n",
      "Assault Description:\n",
      "count       47.00000\n",
      "mean     58022.23404\n",
      "std      17455.53437\n",
      "min      27464.00000\n",
      "25%      45477.50000\n",
      "50%      57193.00000\n",
      "75%      64864.50000\n",
      "max      92105.00000\n",
      "Name: Assault, dtype: float64\n",
      "\n",
      "Burglary Description:\n",
      "count        47.00000\n",
      "mean     189119.82979\n",
      "std       90256.25714\n",
      "min       62769.00000\n",
      "25%       90581.50000\n",
      "50%      208813.00000\n",
      "75%      250016.50000\n",
      "max      360925.00000\n",
      "Name: Burglary, dtype: float64\n",
      "\n",
      "CarTheft Description:\n",
      "count        47.00000\n",
      "mean      97573.55319\n",
      "std       46707.06449\n",
      "min       19311.00000\n",
      "25%       56246.00000\n",
      "50%      106537.00000\n",
      "75%      128367.00000\n",
      "max      187591.00000\n",
      "Name: CarTheft, dtype: float64\n"
     ]
    }
   ],
   "source": [
    "crime.describe()\n",
    "\n",
    "population_series = crime['Population']\n",
    "murder_series = crime['Murder']\n",
    "rape_series = crime['Rape']\n",
    "robbery_series = crime['Robbery']\n",
    "assault_series = crime['Assault']\n",
    "burglary_series = crime['Burglary']\n",
    "cartheft_series = crime['CarTheft']\n",
    "\n",
    "population_description = population_series.describe()\n",
    "murder_description = murder_series.describe()\n",
    "rape_description = rape_series.describe()\n",
    "robbery_description = robbery_series.describe()\n",
    "assault_description = assault_series.describe()\n",
    "burglary_description = burglary_series.describe()\n",
    "cartheft_description = cartheft_series.describe()\n",
    "\n",
    "print(\"\\nPopulation Description:\")\n",
    "print(population_description)\n",
    "\n",
    "print(\"\\nMurder Description:\")\n",
    "print(murder_description)\n",
    "\n",
    "print(\"\\nRape Description:\")\n",
    "print(rape_description)\n",
    "\n",
    "print(\"\\nRobbery Description:\")\n",
    "print(robbery_description)\n",
    "\n",
    "print(\"\\nAssault Description:\")\n",
    "print(assault_description)\n",
    "\n",
    "print(\"\\nBurglary Description:\")\n",
    "print(burglary_description)\n",
    "\n",
    "print(\"\\nCarTheft Description:\")\n",
    "print(cartheft_description)\n",
    "\n"
   ]
  },
  {
   "cell_type": "markdown",
   "metadata": {},
   "source": [
    "## Section 5 - Unique"
   ]
  },
  {
   "cell_type": "markdown",
   "metadata": {},
   "source": [
    "Once again, due to the non-categorical nature of the dataset using unique to display category values does not provide much utility.  However, I still performed the unique() function on some of the numerical data values (which will almost certainly be nearly all unique (murder and year))."
   ]
  },
  {
   "cell_type": "code",
   "execution_count": 7,
   "metadata": {},
   "outputs": [
    {
     "name": "stdout",
     "output_type": "stream",
     "text": [
      "[ 836  882  996 1185 1324 1444 1823 2026 2040 1919 1996 1969 1820 2092\n",
      " 2228 2166 2013 1958 1786 1683 1907 2016 2244 2246 2605 2571 2397 2420\n",
      " 1550 1353 1093  924  903  952  960  909  934  889  874  921  801  781\n",
      "  868  774]\n",
      "[1965 1966 1967 1968 1969 1970 1971 1972 1973 1974 1975 1976 1977 1978\n",
      " 1979 1980 1981 1982 1983 1984 1985 1986 1987 1988 1989 1990 1991 1992\n",
      " 1993 1994 1995 1996 1997 1998 1999 2000 2001 2002 2003 2004 2005 2006\n",
      " 2007 2008 2009 2010 2011]\n"
     ]
    }
   ],
   "source": [
    "unique_values_murder = crime['Murder'].unique()\n",
    "unique_values_year = crime['Year'].unique()\n",
    "\n",
    "print(unique_values_murder)\n",
    "print(unique_values_year)"
   ]
  },
  {
   "cell_type": "markdown",
   "metadata": {},
   "source": [
    "## Section 6 - Histograms"
   ]
  },
  {
   "cell_type": "code",
   "execution_count": 8,
   "metadata": {},
   "outputs": [
    {
     "data": {
      "image/png": "[encoded data removed]",
      "text/plain": [
       "<Figure size 640x480 with 9 Axes>"
      ]
     },
     "metadata": {},
     "output_type": "display_data"
    }
   ],
   "source": [
    "%matplotlib inline\n",
    "histogram = crime.hist()"
   ]
  },
  {
   "cell_type": "markdown",
   "metadata": {},
   "source": [
    "## Section 7 - List"
   ]
  },
  {
   "cell_type": "code",
   "execution_count": 14,
   "metadata": {},
   "outputs": [
    {
     "name": "stdout",
     "output_type": "stream",
     "text": [
      "[870.276, 918.1619999999999, 1036.836, 1233.5849999999998, 1378.2839999999999, 1503.204, 1897.743, 2109.066, 2123.64, 1997.6789999999999, 2077.836, 2049.729, 1997.6789999999999, 1894.62, 2177.772, 2319.348, 2254.806, 2095.533, 2038.2779999999998, 1859.2259999999999, 1752.003, 1985.187, 2098.656, 2336.004, 2338.086, 2711.805, 2676.4109999999996, 2495.277, 2519.22, 2098.656, 1613.55, 1408.473, 1137.8129999999999, 961.8839999999999, 940.0229999999999, 991.0319999999999, 999.3599999999999, 946.2689999999999, 972.294, 925.449, 909.834, 958.761, 833.8409999999999, 870.276, 813.021, 903.588, 805.7339999999999]\n"
     ]
    }
   ],
   "source": [
    "crime_growth_rate = 1.041 #This number is based on the crime growth rate from 2022 to 2023 (4.1%)\n",
    "\n",
    "predictive_crime = [item * crime_growth_rate for item in crime[\"Murder\"]]\n",
    "print(predictive_crime)\n"
   ]
  },
  {
   "cell_type": "markdown",
   "metadata": {},
   "source": [
    "## Section 8 - Filter"
   ]
  },
  {
   "cell_type": "code",
   "execution_count": 18,
   "metadata": {},
   "outputs": [
    {
     "name": "stdout",
     "output_type": "stream",
     "text": [
      "7     1972\n",
      "8     1973\n",
      "14    1979\n",
      "15    1980\n",
      "16    1981\n",
      "17    1982\n",
      "22    1987\n",
      "23    1988\n",
      "24    1989\n",
      "25    1990\n",
      "26    1991\n",
      "27    1992\n",
      "28    1993\n",
      "29    1994\n",
      "Name: Year, dtype: int64\n"
     ]
    }
   ],
   "source": [
    "filtered_years = crime.loc[crime['Murder'] > 2000]\n",
    "years_with_more_than_800_murders = filtered_years['Year']\n",
    "\n",
    "print(years_with_more_than_800_murders)"
   ]
  },
  {
   "cell_type": "markdown",
   "metadata": {},
   "source": [
    "## Section 9 - Map"
   ]
  },
  {
   "cell_type": "code",
   "execution_count": 21,
   "metadata": {},
   "outputs": [
    {
     "name": "stdout",
     "output_type": "stream",
     "text": [
      "[2415.12, 2538.999, 2774.265, 2630.607, 3020.982, 2992.875, 3357.225, 4371.159, 5050.932, 5454.839999999999, 5308.058999999999, 4854.183, 5488.152, 5379.888, 5615.1539999999995, 5626.605, 5703.638999999999, 5370.518999999999, 5513.1359999999995, 5828.558999999999, 5939.946, 5637.014999999999, 5764.017, 5703.638999999999, 5456.922, 5588.088, 5293.485, 5363.232, 5213.3279999999995, 4892.7, 4465.889999999999, 4345.134, 4242.075, 4000.5629999999996, 3709.0829999999996, 3674.7299999999996, 3691.3859999999995, 4044.285, 3929.7749999999996, 3755.928, 3785.0759999999996, 3298.9289999999996, 3045.966, 2913.759, 2687.8619999999996, 2911.6769999999997, 2864.832]\n"
     ]
    }
   ],
   "source": [
    "def predictive_crime(x):\n",
    "    return x * 1.041\n",
    "\n",
    "predicted_crime = map(predictive_crime, crime['Rape'])\n",
    "predicted_crime_list = list(predicted_crime)\n",
    "print(predicted_crime_list)"
   ]
  }
 ],
 "metadata": {
  "kernelspec": {
   "display_name": "Python 3",
   "language": "python",
   "name": "python3"
  },
  "language_info": {
   "codemirror_mode": {
    "name": "ipython",
    "version": 3
   },
   "file_extension": ".py",
   "mimetype": "text/x-python",
   "name": "python",
   "nbconvert_exporter": "python",
   "pygments_lexer": "ipython3",
   "version": "3.11.4"
  },
  "orig_nbformat": 4
 },
 "nbformat": 4,
 "nbformat_minor": 2
}
