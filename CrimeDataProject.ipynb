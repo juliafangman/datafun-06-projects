{
 "cells": [
  {
   "cell_type": "markdown",
   "metadata": {},
   "source": [
    "# Module 6 Project - Custom Exploratory Data Project\n",
    "Author: [Julia Fangman](https://github.com/juliafangman)\n",
    "Repository: [datafun-06-projects](https://github.com/juliafangman/datafun-06-projects)"
   ]
  },
  {
   "cell_type": "markdown",
   "metadata": {},
   "source": [
    "## Analyzing Crime in NYC"
   ]
  },
  {
   "cell_type": "markdown",
   "metadata": {},
   "source": [
    "New York City is one of the largest cities in the United States with approximately 8.5 million people (as of 2021). Because it is so large, it makes me wonder...\"How often does crime actually occur in a city that big?\" Well below we will begin by analyzing a NYC crime dataset to display how often crime really occurs (and for which type of crimes)."
   ]
  },
  {
   "cell_type": "markdown",
   "metadata": {},
   "source": [
    "## Section 1 - Load"
   ]
  },
  {
   "cell_type": "code",
   "execution_count": 1,
   "metadata": {},
   "outputs": [],
   "source": [
    "import pandas as pd\n",
    "crime = pd.read_csv('crime.csv') "
   ]
  },
  {
   "cell_type": "markdown",
   "metadata": {},
   "source": [
    "## Section 2 - View"
   ]
  },
  {
   "cell_type": "code",
   "execution_count": 4,
   "metadata": {},
   "outputs": [
    {
     "name": "stdout",
     "output_type": "stream",
     "text": [
      "First 5 rows:\n",
      "   Year  Population  Murder  Rape  Robbery  Assault  Burglary  CarTheft\n",
      "0  1965    18073000     836  2320    28182    27464    183443     58452\n",
      "1  1966    18258000     882  2439    30098    29142    196127     64368\n",
      "2  1967    18336000     996  2665    40202    31261    219157     83775\n",
      "3  1968    18113000    1185  2527    59857    34946    250918    104877\n",
      "4  1969    18321000    1324  2902    64754    36890    248477    115400\n",
      "\n",
      "Last 5 rows:\n",
      "    Year  Population  Murder  Rape  Robbery  Assault  Burglary  CarTheft\n",
      "42  2007    19297729     801  2926    31094    45094     64857     28030\n",
      "43  2008    19467789     836  2799    31789    42122     65537     25096\n",
      "44  2009    19541453     781  2582    28141    43606     62769     21871\n",
      "45  2010    19395206     868  2797    28630    44197     65839     20639\n",
      "46  2011    19465197     774  2752    28396    45568     65397     19311\n"
     ]
    }
   ],
   "source": [
    "import pandas as pd\n",
    "crime = pd.read_csv('crime.csv')  \n",
    "\n",
    "pd.set_option('display.precision', 5)\n",
    "print(\"First 5 rows:\")\n",
    "print(crime.head(5))\n",
    "\n",
    "print(\"\\nLast 5 rows:\")\n",
    "print(crime.tail(5))"
   ]
  },
  {
   "cell_type": "markdown",
   "metadata": {},
   "source": [
    "## Section 3 - Describe"
   ]
  },
  {
   "cell_type": "code",
   "execution_count": 5,
   "metadata": {},
   "outputs": [
    {
     "name": "stdout",
     "output_type": "stream",
     "text": [
      "Descriptive Statistics for Numeric Columns:\n",
      "             Year   Population      Murder        Rape       Robbery  \\\n",
      "count    47.00000  4.70000e+01    47.00000    47.00000      47.00000   \n",
      "mean   1988.00000  1.83443e+07  1549.97872  4200.42553   70429.29787   \n",
      "std      13.71131  6.02450e+05   590.45426  1096.56951   30204.82376   \n",
      "min    1965.00000  1.75067e+07   774.00000  2320.00000   28141.00000   \n",
      "25%    1976.50000  1.79370e+07   922.50000  3197.00000   36604.00000   \n",
      "50%    1988.00000  1.81690e+07  1683.00000  4199.00000   81149.00000   \n",
      "75%    1999.50000  1.86837e+07  2016.00000  5241.00000   94141.00000   \n",
      "max    2011.00000  1.95415e+07  2605.00000  5706.00000  120344.00000   \n",
      "\n",
      "           Assault      Burglary      CarTheft  \n",
      "count     47.00000      47.00000      47.00000  \n",
      "mean   58022.23404  189119.82979   97573.55319  \n",
      "std    17455.53437   90256.25714   46707.06449  \n",
      "min    27464.00000   62769.00000   19311.00000  \n",
      "25%    45477.50000   90581.50000   56246.00000  \n",
      "50%    57193.00000  208813.00000  106537.00000  \n",
      "75%    64864.50000  250016.50000  128367.00000  \n",
      "max    92105.00000  360925.00000  187591.00000  \n"
     ]
    }
   ],
   "source": [
    "numeric_descriptive_stats = crime.describe()\n",
    "print(\"Descriptive Statistics for Numeric Columns:\")\n",
    "print(numeric_descriptive_stats)"
   ]
  },
  {
   "cell_type": "markdown",
   "metadata": {},
   "source": [
    "## Section 4 - Series"
   ]
  },
  {
   "cell_type": "code",
   "execution_count": null,
   "metadata": {},
   "outputs": [],
   "source": [
    "crime.describe()\n",
    "\n",
    "population_series = crime['population']\n",
    "murder_series = crime['murder']\n",
    "rape_series = crime['Rape']\n",
    "robbery_series = crime['Robbery']\n",
    "assault_series = crime['Assault']\n",
    "burglary_series = crime['Burglary']\n",
    "cartheft_series = crime['CarTheft']\n",
    "\n",
    "population_description = population_series.describe()\n",
    "murder_description = murder_series.describe()\n",
    "rape_description = rape_series.describe()\n",
    "robbery_description = robbery_series.describe()\n",
    "assault_description = assault_series.describe()\n",
    "burglary_description = burglary_series.describe()\n",
    "cartheft_description = cartheft_series.describe()\n",
    "\n",
    "print(\"\\nPopulation Description:\")\n",
    "print(population_description)\n",
    "\n",
    "print(\"\\nMurder Description:\")\n",
    "print(murder_description)\n",
    "\n",
    "print(\"\\nRape Description:\")\n",
    "print(rape_description)\n",
    "\n",
    "print(\"\\nRobbery Description:\")\n",
    "print(robbery_description)\n",
    "\n",
    "print(\"\\nAssault Description:\")\n",
    "print(assault_description)\n",
    "\n",
    "print(\"\\nBurglary Description:\")\n",
    "print(burglary_description)\n",
    "\n",
    "print(\"\\nCarTheft Description:\")\n",
    "print(cartheft_description)\n"
   ]
  },
  {
   "cell_type": "markdown",
   "metadata": {},
   "source": [
    "## Section 5 - Unique"
   ]
  },
  {
   "cell_type": "markdown",
   "metadata": {},
   "source": []
  },
  {
   "cell_type": "markdown",
   "metadata": {},
   "source": [
    "## Section 6 - Histograms"
   ]
  },
  {
   "cell_type": "markdown",
   "metadata": {},
   "source": []
  },
  {
   "cell_type": "markdown",
   "metadata": {},
   "source": [
    "## Section 7 - List"
   ]
  },
  {
   "cell_type": "markdown",
   "metadata": {},
   "source": []
  },
  {
   "cell_type": "markdown",
   "metadata": {},
   "source": [
    "## Section 8 - Filter"
   ]
  },
  {
   "cell_type": "markdown",
   "metadata": {},
   "source": []
  },
  {
   "cell_type": "markdown",
   "metadata": {},
   "source": [
    "## Section 9 - Map"
   ]
  },
  {
   "cell_type": "markdown",
   "metadata": {},
   "source": []
  }
 ],
 "metadata": {
  "kernelspec": {
   "display_name": "Python 3",
   "language": "python",
   "name": "python3"
  },
  "language_info": {
   "codemirror_mode": {
    "name": "ipython",
    "version": 3
   },
   "file_extension": ".py",
   "mimetype": "text/x-python",
   "name": "python",
   "nbconvert_exporter": "python",
   "pygments_lexer": "ipython3",
   "version": "3.11.4"
  },
  "orig_nbformat": 4
 },
 "nbformat": 4,
 "nbformat_minor": 2
}
